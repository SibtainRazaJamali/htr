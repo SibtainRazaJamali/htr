{
 "cells": [
  {
   "cell_type": "code",
   "execution_count": 6,
   "metadata": {},
   "outputs": [],
   "source": [
    "from tensorflow.python.keras import layers,models"
   ]
  },
  {
   "cell_type": "code",
   "execution_count": 21,
   "metadata": {},
   "outputs": [],
   "source": [
    "\n",
    "cnn=models.Sequential()\n",
    "cnn.add(layers.Conv2D(filters=32,kernel_size=(3,3),activation='relu',input_shape=(224,2000,1),data_format='channels_last'))\n",
    "cnn.add(layers.MaxPooling2D(pool_size=(2,2)))\n",
    "cnn.add(layers.Conv2D(filters=64,kernel_size=(3,3),activation='relu',data_format='channels_last'))\n",
    "cnn.add(layers.MaxPooling2D(pool_size=(2,2)))\n",
    "cnn.add(layers.Conv2D(filters=128,kernel_size=(3,3),activation='relu',data_format='channels_last'))\n",
    "cnn.add(layers.MaxPooling2D(pool_size=(2,2)))\n",
    "cnn.add(layers.Conv2D(filters=256,kernel_size=(3,3),activation='relu',data_format='channels_last'))\n",
    "cnn.add(layers.MaxPooling2D(pool_size=(2,2)))\n",
    "cnn.add(layers.Conv2D(filters=512,kernel_size=(3,3),activation='relu',data_format='channels_last'))\n",
    "cnn.add(layers.MaxPooling2D(pool_size=(2,2)))\n",
    "cnn.add(layers.Conv2D(filters=512,kernel_size=(3,3),activation='relu',data_format='channels_last'))\n",
    "cnn.add(layers.MaxPooling2D(pool_size=(2,2)))\n",
    "cnn.add(layers.Reshape(target_shape=()))"
   ]
  },
  {
   "cell_type": "code",
   "execution_count": 22,
   "metadata": {},
   "outputs": [
    {
     "name": "stdout",
     "output_type": "stream",
     "text": [
      "_________________________________________________________________\n",
      "Layer (type)                 Output Shape              Param #   \n",
      "=================================================================\n",
      "conv2d_38 (Conv2D)           (None, 222, 1998, 32)     320       \n",
      "_________________________________________________________________\n",
      "max_pooling2d_30 (MaxPooling (None, 111, 999, 32)      0         \n",
      "_________________________________________________________________\n",
      "conv2d_39 (Conv2D)           (None, 109, 997, 64)      18496     \n",
      "_________________________________________________________________\n",
      "max_pooling2d_31 (MaxPooling (None, 54, 498, 64)       0         \n",
      "_________________________________________________________________\n",
      "conv2d_40 (Conv2D)           (None, 52, 496, 128)      73856     \n",
      "_________________________________________________________________\n",
      "max_pooling2d_32 (MaxPooling (None, 26, 248, 128)      0         \n",
      "_________________________________________________________________\n",
      "conv2d_41 (Conv2D)           (None, 24, 246, 256)      295168    \n",
      "_________________________________________________________________\n",
      "max_pooling2d_33 (MaxPooling (None, 12, 123, 256)      0         \n",
      "_________________________________________________________________\n",
      "conv2d_42 (Conv2D)           (None, 10, 121, 512)      1180160   \n",
      "_________________________________________________________________\n",
      "max_pooling2d_34 (MaxPooling (None, 5, 60, 512)        0         \n",
      "_________________________________________________________________\n",
      "conv2d_43 (Conv2D)           (None, 3, 58, 512)        2359808   \n",
      "_________________________________________________________________\n",
      "max_pooling2d_35 (MaxPooling (None, 1, 29, 512)        0         \n",
      "=================================================================\n",
      "Total params: 3,927,808\n",
      "Trainable params: 3,927,808\n",
      "Non-trainable params: 0\n",
      "_________________________________________________________________\n"
     ]
    }
   ],
   "source": [
    "cnn.summary()"
   ]
  },
  {
   "cell_type": "code",
   "execution_count": null,
   "metadata": {},
   "outputs": [],
   "source": [
    "rnn=layers.CuDNNLSTM()"
   ]
  }
 ],
 "metadata": {
  "kernelspec": {
   "display_name": "Python 2",
   "language": "python",
   "name": "python2"
  },
  "language_info": {
   "codemirror_mode": {
    "name": "ipython",
    "version": 2
   },
   "file_extension": ".py",
   "mimetype": "text/x-python",
   "name": "python",
   "nbconvert_exporter": "python",
   "pygments_lexer": "ipython2",
   "version": "2.7.15rc1"
  }
 },
 "nbformat": 4,
 "nbformat_minor": 2
}
